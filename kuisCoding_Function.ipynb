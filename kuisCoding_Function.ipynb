{
  "nbformat": 4,
  "nbformat_minor": 0,
  "metadata": {
    "colab": {
      "provenance": [],
      "authorship_tag": "ABX9TyP9DCUMEIwlVYv0bxwFsawh",
      "include_colab_link": true
    },
    "kernelspec": {
      "name": "python3",
      "display_name": "Python 3"
    },
    "language_info": {
      "name": "python"
    }
  },
  "cells": [
    {
      "cell_type": "markdown",
      "metadata": {
        "id": "view-in-github",
        "colab_type": "text"
      },
      "source": [
        "<a href=\"https://colab.research.google.com/github/Sularjo/learningDataScienece/blob/main/kuisCoding_Function.ipynb\" target=\"_parent\"><img src=\"https://colab.research.google.com/assets/colab-badge.svg\" alt=\"Open In Colab\"/></a>"
      ]
    },
    {
      "cell_type": "code",
      "execution_count": 1,
      "metadata": {
        "colab": {
          "base_uri": "https://localhost:8080/"
        },
        "id": "GuZ_z0y6tala",
        "outputId": "92d18820-4d99-4546-fad8-c6d9cda23677"
      },
      "outputs": [
        {
          "output_type": "stream",
          "name": "stdout",
          "text": [
            "5\n"
          ]
        }
      ],
      "source": [
        "\"\"\"\n",
        "TODO:\n",
        "Buatlah sebuah fungsi bernama \"minimal\" dengan ketentuan berikut.\n",
        "- Menerima dua buah argumen berupa number, yaitu a dan b.\n",
        "- Mengembalikan nilai terkecil antara a atau b.\n",
        "- Bila nilai keduanya sama, kembalikan dengan nilai a.\n",
        "\"\"\"\n",
        "\n",
        "# TODO: Silakan buat kode Anda di bawah ini.\n",
        "def minimal(a, b):\n",
        "    if a < b:\n",
        "        return a\n",
        "    else:\n",
        "        return b\n",
        "nilaiMinimal = minimal(5, 10)\n",
        "print(nilaiMinimal)"
      ]
    }
  ]
}